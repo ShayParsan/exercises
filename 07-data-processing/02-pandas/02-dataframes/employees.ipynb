{
 "cells": [
  {
   "cell_type": "code",
   "execution_count": 29,
   "id": "initial_id",
   "metadata": {
    "collapsed": true,
    "jupyter": {
     "is_executing": true
    }
   },
   "outputs": [
    {
     "name": "stdout",
     "output_type": "stream",
     "text": [
      "Department with the lowest average salary: HR\n",
      "\n",
      "DataFrame with 'Salary Increase' column:\n",
      "   EmployeeID     Name Department  Salary  Salary Increase\n",
      "0         101    Alice         HR   60000          66000.0\n",
      "1         102      Bob         IT   75000          82500.0\n",
      "2         103  Charlie    Finance   80000          88000.0\n",
      "3         104    David  Marketing   70000          77000.0\n",
      "4         105     Emma      Sales   65000          71500.0\n"
     ]
    }
   ],
   "source": [
    "import pandas as pd\n",
    "\n",
    "data = {\n",
    "    'EmployeeID': [101, 102, 103, 104, 105],\n",
    "    'Name': ['Alice', 'Bob', 'Charlie', 'David', 'Emma'],\n",
    "    'Department': ['HR', 'IT', 'Finance', 'Marketing', 'Sales'],\n",
    "    'Salary': [60000, 75000, 80000, 70000, 65000]\n",
    "}\n",
    "\n",
    "df = pd.DataFrame(data)\n",
    "df\n",
    "df.head(3)\n",
    "df['Salary'].describe()\n",
    "df['Department'].value_counts()\n",
    "\n",
    "df['Salary'].mean()\n",
    "\n",
    "maxsalary = df['Salary'].max()\n",
    "df[df['Salary'] == maxsalary]\n",
    "\n",
    "min_avg_salary_dept = df.groupby('Department')['Salary'].mean().idxmin()\n",
    "print(\"Department with the lowest average salary:\", min_avg_salary_dept)\n",
    "print()\n",
    "\n",
    "df['Salary Increase'] = df['Salary'] * 1.1  # Add new column for salary increase\n",
    "print(\"DataFrame with 'Salary Increase' column:\")\n",
    "print(df)\n",
    "\n",
    "\n"
   ]
  }
 ],
 "metadata": {
  "kernelspec": {
   "display_name": "Python 3",
   "language": "python",
   "name": "python3"
  },
  "language_info": {
   "codemirror_mode": {
    "name": "ipython",
    "version": 3
   },
   "file_extension": ".py",
   "mimetype": "text/x-python",
   "name": "python",
   "nbconvert_exporter": "python",
   "pygments_lexer": "ipython3",
   "version": "3.11.5"
  }
 },
 "nbformat": 4,
 "nbformat_minor": 5
}
