{
 "cells": [
  {
   "cell_type": "code",
   "execution_count": 119,
   "id": "3f1e7d68e9d593f4",
   "metadata": {
    "ExecuteTime": {
     "end_time": "2024-06-06T07:56:09.235274Z",
     "start_time": "2024-06-06T07:56:09.221659Z"
    }
   },
   "outputs": [
    {
     "name": "stdout",
     "output_type": "stream",
     "text": [
      "[[ 0.42675879 -0.82284463  1.38892261  1.07561252 -0.08407631]\n",
      " [-0.4079019  -0.00596427  0.4904139   0.3258548   0.92486533]\n",
      " [ 0.12562958 -0.00656087  1.70729706 -1.66451301 -2.61273763]\n",
      " [-2.56553561 -0.61572048 -0.35400357  0.24449643 -0.54448894]]\n"
     ]
    },
    {
     "data": {
      "text/html": [
       "<div>\n",
       "<style scoped>\n",
       "    .dataframe tbody tr th:only-of-type {\n",
       "        vertical-align: middle;\n",
       "    }\n",
       "\n",
       "    .dataframe tbody tr th {\n",
       "        vertical-align: top;\n",
       "    }\n",
       "\n",
       "    .dataframe thead th {\n",
       "        text-align: right;\n",
       "    }\n",
       "</style>\n",
       "<table border=\"1\" class=\"dataframe\">\n",
       "  <thead>\n",
       "    <tr style=\"text-align: right;\">\n",
       "      <th></th>\n",
       "      <th>Monday</th>\n",
       "      <th>Tuesday</th>\n",
       "      <th>Wednesday</th>\n",
       "      <th>Thursday</th>\n",
       "      <th>Friday</th>\n",
       "    </tr>\n",
       "  </thead>\n",
       "  <tbody>\n",
       "    <tr>\n",
       "      <th>A</th>\n",
       "      <td>0.426759</td>\n",
       "      <td>-0.822845</td>\n",
       "      <td>1.388923</td>\n",
       "      <td>1.075613</td>\n",
       "      <td>-0.084076</td>\n",
       "    </tr>\n",
       "    <tr>\n",
       "      <th>B</th>\n",
       "      <td>-0.407902</td>\n",
       "      <td>-0.005964</td>\n",
       "      <td>0.490414</td>\n",
       "      <td>0.325855</td>\n",
       "      <td>0.924865</td>\n",
       "    </tr>\n",
       "    <tr>\n",
       "      <th>C</th>\n",
       "      <td>0.125630</td>\n",
       "      <td>-0.006561</td>\n",
       "      <td>1.707297</td>\n",
       "      <td>-1.664513</td>\n",
       "      <td>-2.612738</td>\n",
       "    </tr>\n",
       "    <tr>\n",
       "      <th>D</th>\n",
       "      <td>-2.565536</td>\n",
       "      <td>-0.615720</td>\n",
       "      <td>-0.354004</td>\n",
       "      <td>0.244496</td>\n",
       "      <td>-0.544489</td>\n",
       "    </tr>\n",
       "  </tbody>\n",
       "</table>\n",
       "</div>"
      ],
      "text/plain": [
       "     Monday   Tuesday  Wednesday  Thursday    Friday\n",
       "A  0.426759 -0.822845   1.388923  1.075613 -0.084076\n",
       "B -0.407902 -0.005964   0.490414  0.325855  0.924865\n",
       "C  0.125630 -0.006561   1.707297 -1.664513 -2.612738\n",
       "D -2.565536 -0.615720  -0.354004  0.244496 -0.544489"
      ]
     },
     "execution_count": 119,
     "metadata": {},
     "output_type": "execute_result"
    }
   ],
   "source": [
    "import pandas as pd\n",
    "import numpy as np\n",
    "\n",
    "rows = ['A', 'B', 'C', 'D']\n",
    "columns = ['Monday', 'Tuesday', 'Wednesday', 'Thursday','Friday']\n",
    "data_array = np.random.randn(4, 5)\n",
    "\n",
    "print(data_array)\n",
    "\n",
    "data_frame = pd.DataFrame(data_array, columns=columns, index=rows)\n",
    "data_frame"
   ]
  },
  {
   "cell_type": "markdown",
   "id": "f6d659af42d1bf31",
   "metadata": {},
   "source": [
    "**Simple dataframe operations**\n",
    "\n",
    "#data_frame.dtypes #types of columns' fields\n",
    "\n",
    "#data_frame.describe() - statics data\n",
    "\n",
    "#data_frame.head(2)\n",
    "\n",
    "#data_frame.index\n",
    "\n",
    "#data_frame.columns\n",
    "\n",
    "#data_frame.values"
   ]
  },
  {
   "cell_type": "markdown",
   "id": "5ce4ceabda2eda8f",
   "metadata": {},
   "source": [
    "**Transpose and other imp**"
   ]
  },
  {
   "cell_type": "markdown",
   "id": "8d1d529504f1fb15",
   "metadata": {},
   "source": [
    "#data_frame.T - Flips columns and indexes(Transpose)\n",
    "\n",
    "#data_frame.sort_values(by=['Monday'], ascending=False) - what it does it goes to the collmn of monday and sort it values descending\n",
    "\n",
    "#data_frame[1:3] # slice the rows from index 1 to index 2 (3 is not inlcuded, and first index is 0)\n",
    "\n",
    "#data_frame[['Monday','Friday']] # slice the colums\n",
    "\n",
    "#df2 = data_frame.copy() # creates a copy of thr data frame\n",
    "\n",
    "#iloc - integer location\n",
    "\n",
    "#loc - location\n"
   ]
  },
  {
   "cell_type": "markdown",
   "id": "280a7273273414e9",
   "metadata": {},
   "source": [
    "#data_frame.loc['C','Monday'] = 2 - loc['row','Column'] - to replace a value\n",
    "\n",
    "#data_frame['Monday'].mean() - creates mean of a column\n",
    "\n",
    "**OPERATIONS FOR DATAFRAME MISSING VALUES**\n",
    "\n",
    "\n"
   ]
  },
  {
   "cell_type": "markdown",
   "id": "4e519e4908b96607",
   "metadata": {},
   "source": [
    "df2 = data_frame.copy()\n",
    "\n",
    "df2.loc['C','Monday'] = np.nan\n",
    "\n",
    "# what happens here is that we craete a nan value using np.nan\n",
    "\n",
    "#mean = df2['Monday'].mean()\n",
    "\n",
    "#df2['Monday'] = df2['Monday'].fillna(mean)\n",
    "\n",
    "# here we filled all the nan values in monday column using .fillna(mean) - mean is what we calculated\n",
    "\n",
    "#we can also drop missing data using dropna\n",
    "\n",
    "df3 = df2.copy()\n",
    "\n",
    "df3.dropna(how ='any', inplace=True)\n",
    "\n",
    "#how='any': This parameter specifies that a row or column should be dropped if it contains any NaN values.\n",
    "\t#inplace=True: This parameter modifies the DataFrame in place, meaning the changes are applied to the existing DataFrame rather than returning a new one.\n"
   ]
  },
  {
   "cell_type": "markdown",
   "id": "ef286577af1a7b03",
   "metadata": {},
   "source": [
    "**File operations**"
   ]
  },
  {
   "cell_type": "code",
   "execution_count": 120,
   "id": "94a5fb146190b28e",
   "metadata": {
    "ExecuteTime": {
     "end_time": "2024-06-06T07:56:09.243402Z",
     "start_time": "2024-06-06T07:56:09.237527Z"
    }
   },
   "outputs": [],
   "source": [
    "data_frame.to_csv('my_data.csv')# To save a file\n",
    "\n",
    "df4 = pd.read_csv('my_data.csv')# to read a file"
   ]
  },
  {
   "cell_type": "markdown",
   "id": "665945c98b923cff",
   "metadata": {},
   "source": [
    "**Visualization**"
   ]
  },
  {
   "cell_type": "markdown",
   "id": "2129057b2d25a02",
   "metadata": {},
   "source": [
    "%matplotlib inline\n",
    "#to print on this page\n",
    "\n",
    "ts = pd.Series(np.random.randn(5)) # creatiing a series\n",
    "\n",
    "ts.plot() # to plot a series \n",
    "\n",
    "df4.plot()# plot a data frame\n",
    "data_frame.plot(kind='bar')\n"
   ]
  },
  {
   "cell_type": "markdown",
   "id": "bccc725e-a59d-46cc-8138-1552bf32367e",
   "metadata": {},
   "source": [
    "**MatLab Operations**"
   ]
  },
  {
   "cell_type": "code",
   "execution_count": null,
   "id": "3b8ee3d7-790b-4664-8bb2-e71ec6df7362",
   "metadata": {},
   "outputs": [],
   "source": []
  }
 ],
 "metadata": {
  "kernelspec": {
   "display_name": "Python 3 (ipykernel)",
   "language": "python",
   "name": "python3"
  },
  "language_info": {
   "codemirror_mode": {
    "name": "ipython",
    "version": 3
   },
   "file_extension": ".py",
   "mimetype": "text/x-python",
   "name": "python",
   "nbconvert_exporter": "python",
   "pygments_lexer": "ipython3",
   "version": "3.11.5"
  }
 },
 "nbformat": 4,
 "nbformat_minor": 5
}
